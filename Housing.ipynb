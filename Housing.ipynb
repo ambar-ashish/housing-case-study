{
 "cells": [
  {
   "cell_type": "markdown",
   "id": "d1173cd7",
   "metadata": {},
   "source": [
    "# Housing Case Study"
   ]
  },
  {
   "cell_type": "markdown",
   "id": "de9168c0",
   "metadata": {},
   "source": [
    "## Introduction"
   ]
  },
  {
   "cell_type": "markdown",
   "id": "a1a9042e",
   "metadata": {},
   "source": [
    "A US-based housing company named Surprise Housing has decided to enter the Australian market. \n",
    "The company uses data analytics to purchase houses at a price below their actual values \n",
    "and flip them on at a higher price.\n",
    "\n",
    "The company is looking at prospective properties to buy to enter the market. \n",
    "We are required to build a regression model using regularisation \n",
    "in order to predict the actual value of the prospective properties and decide whether to invest in them or not."
   ]
  },
  {
   "cell_type": "markdown",
   "id": "867995c6",
   "metadata": {},
   "source": [
    "## Goals"
   ]
  },
  {
   "cell_type": "markdown",
   "id": "d5441b41",
   "metadata": {},
   "source": [
    "1. Which variables are significant in predicting the price of a house\n",
    "\n",
    "2. How well those variables describe the price of a house.\n",
    "\n",
    "3. Also, determine the optimal value of lambda for ridge and lasso regression."
   ]
  },
  {
   "cell_type": "code",
   "execution_count": null,
   "id": "61094d1e",
   "metadata": {},
   "outputs": [],
   "source": [
    "#Import Python libraries\n",
    "\n",
    "import pandas as pd \n",
    "import numpy as np \n",
    "import matplotlib.pyplot as plt\n",
    "from sklearn.model_selection import train_test_split\n",
    "from sklearn.metrics import r2_score\n",
    "import seaborn as sns\n",
    "sns.set_palette('muted')\n",
    "import warnings\n",
    "warnings.filterwarnings('ignore')\n",
    "\n",
    "from sklearn.preprocessing import scale\n",
    "from sklearn.preprocessing import StandardScaler\n",
    "import os\n",
    "from sklearn import linear_model\n",
    "from sklearn.linear_model import LinearRegression\n",
    "from sklearn.linear_model import Ridge\n",
    "from sklearn.linear_model import Lasso\n",
    "from sklearn.model_selection import GridSearchCV\n",
    "from sklearn.model_selection import cross_val_score"
   ]
  },
  {
   "cell_type": "code",
   "execution_count": null,
   "id": "287611e3",
   "metadata": {},
   "outputs": [],
   "source": [
    "# set the max columns to none to see all the columns & rows in dataset\n",
    "\n",
    "pd.set_option('display.max_columns', None)\n",
    "pd.set_option('display.max_rows', None)"
   ]
  },
  {
   "cell_type": "markdown",
   "id": "a2b34f1c",
   "metadata": {},
   "source": [
    "### Import the dataset"
   ]
  },
  {
   "cell_type": "code",
   "execution_count": null,
   "id": "07c523a9",
   "metadata": {},
   "outputs": [],
   "source": [
    "house_original = pd.read_csv('train.csv')\n",
    "house_original.head()"
   ]
  },
  {
   "cell_type": "markdown",
   "id": "465670e6",
   "metadata": {},
   "source": [
    "### Checking Data details in the dataset"
   ]
  },
  {
   "cell_type": "code",
   "execution_count": null,
   "id": "cded49da",
   "metadata": {},
   "outputs": [],
   "source": [
    "house_original.shape"
   ]
  },
  {
   "cell_type": "code",
   "execution_count": null,
   "id": "9c622b83",
   "metadata": {},
   "outputs": [],
   "source": [
    "house_original.info()"
   ]
  },
  {
   "cell_type": "code",
   "execution_count": null,
   "id": "2cdd5664",
   "metadata": {},
   "outputs": [],
   "source": [
    "house_original.describe()"
   ]
  },
  {
   "cell_type": "code",
   "execution_count": null,
   "id": "29dbaf41",
   "metadata": {},
   "outputs": [],
   "source": [
    "# Check for null values\n",
    "\n",
    "house_original.isnull().sum()"
   ]
  },
  {
   "cell_type": "code",
   "execution_count": null,
   "id": "06f45ce0",
   "metadata": {},
   "outputs": [],
   "source": [
    "## Creating a copy of original dataset for analysis\n",
    "\n",
    "house = house_original.copy()\n",
    "house.head()"
   ]
  },
  {
   "cell_type": "code",
   "execution_count": null,
   "id": "ac45f664",
   "metadata": {},
   "outputs": [],
   "source": [
    "## Verify the null percentage\n",
    "\n",
    "house_null_percentage = (house.isnull().sum() / house.isnull().count()*100).sort_values(ascending = False)\n",
    "house_null_percentage.head(15)"
   ]
  },
  {
   "cell_type": "code",
   "execution_count": null,
   "id": "db341990",
   "metadata": {},
   "outputs": [],
   "source": [
    "# Columns with null values more than 40% should be dropped\n",
    "\n",
    "house.drop(['PoolQC','MiscFeature','Alley','Fence','MasVnrType','FireplaceQu'],axis=1,inplace=True)"
   ]
  },
  {
   "cell_type": "code",
   "execution_count": null,
   "id": "953e6977",
   "metadata": {},
   "outputs": [],
   "source": [
    "# Fixing missing values in column LotFrontage, MasVnrArea and GarageYrBlt by imputing data\n",
    "\n",
    "house['LotFrontage']= house.LotFrontage.fillna(house.LotFrontage.median())\n",
    "house['MasVnrArea']= house.MasVnrArea.fillna(house.MasVnrArea.median())   \n",
    "house['GarageYrBlt']= house.GarageYrBlt.fillna(house.GarageYrBlt.mean())\n",
    "\n"
   ]
  },
  {
   "cell_type": "code",
   "execution_count": null,
   "id": "e1510414",
   "metadata": {},
   "outputs": [],
   "source": [
    "## Verify the null percentage again after columns removal and imputation\n",
    "\n",
    "house_null_percentage = (house.isnull().sum() / house.isnull().count()*100).sort_values(ascending = False)\n",
    "house_null_percentage.head(15)"
   ]
  },
  {
   "cell_type": "code",
   "execution_count": null,
   "id": "b817081b",
   "metadata": {},
   "outputs": [],
   "source": [
    "#Replacing null with No Garrage for better understanding when house doesn't have the garage\n",
    "\n",
    "house['GarageType'] = house['GarageType'].replace(np.nan, 'No Garage')\n",
    "house['GarageFinish'] = house['GarageFinish'].replace(np.nan, 'No Garage')\n",
    "house['GarageCond'] = house['GarageCond'].replace(np.nan, 'No Garage')\n",
    "house['GarageQual'] = house['GarageQual'].replace(np.nan, 'No Garage')\n",
    "#surp['MasVnrType'] = surp['MasVnrType'].replace(np.nan, 'None') # replacing nan with the top option of this field\n",
    "house['Electrical'] = house['Electrical'].replace(np.nan, 'SBrkr') # replacing nan with the top option of this field\n",
    "\n"
   ]
  },
  {
   "cell_type": "code",
   "execution_count": null,
   "id": "1e8c75c7",
   "metadata": {},
   "outputs": [],
   "source": [
    "#Changing num to categorical so for these dummy variables can be created\n",
    "\n",
    "house['MSSubClass']=house['MSSubClass'].replace({20:'1-STORY 1946 & NEWER ALL STYLES',30:'1-STORY 1945 & OLDER',40:'1-STORY W/FINISHED ATTIC ALL AGES',\n",
    "        45:'1-1/2 STORY - UNFINISHED ALL AGES',\n",
    "        50:'1-1/2 STORY FINISHED ALL AGES',\n",
    "        60:'2-STORY 1946 & NEWER',\n",
    "        70:'2-STORY 1945 & OLDER',\n",
    "        75:'2-1/2 STORY ALL AGES',\n",
    "        80:'SPLIT OR MULTI-LEVEL',\n",
    "        85:'SPLIT FOYER',\n",
    "        90:'DUPLEX - ALL STYLES AND AGES',\n",
    "       120:'1-STORY PUD (Planned Unit Development) - 1946 & NEWER',\n",
    "       150:'1-1/2 STORY PUD - ALL AGES',\n",
    "       160:'2-STORY PUD - 1946 & NEWER',\n",
    "       180:'PUD - MULTILEVEL - INCL SPLIT LEV/FOYER',\n",
    "       190:'2 FAMILY CONVERSION - ALL STYLES AND AGES'})\n",
    "\n",
    "house['OverallQual']=house['OverallQual'].replace({ 10:'Very Excellent',\n",
    "       9:'Excellent',\n",
    "       8:'Very Good',\n",
    "       7:'Good',\n",
    "       6:'Above Average',\n",
    "       5:'Average',\n",
    "       4:'Below Average',\n",
    "       3:'Fair',\n",
    "       2:'Poor',\n",
    "       1:'Very Poor'})\n",
    "house['OverallCond']=house['OverallCond'].replace({ 10:'Very Excellent',\n",
    "       9:'Excellent',\n",
    "       8:'Very Good',\n",
    "       7:'Good',\n",
    "       6:'Above Average',\n",
    "       5:'Average',\n",
    "       4:'Below Average',\n",
    "       3:'Fair',\n",
    "       2:'Poor',\n",
    "       1:'Very Poor'})"
   ]
  },
  {
   "cell_type": "code",
   "execution_count": null,
   "id": "cdc1660d",
   "metadata": {},
   "outputs": [],
   "source": [
    "house.head()"
   ]
  },
  {
   "cell_type": "code",
   "execution_count": null,
   "id": "ce9c1d6f",
   "metadata": {},
   "outputs": [],
   "source": [
    "#Replacing null with No Basement when house doesn't have the basement\n",
    "\n",
    "house['BsmtExposure'] = house['BsmtExposure'].replace(np.nan, 'No Basement')\n",
    "house['BsmtFinType2'] = house['BsmtFinType2'].replace(np.nan, 'No Basement')\n",
    "house['BsmtFinType1'] = house['BsmtFinType1'].replace(np.nan, 'No Basement')\n",
    "house['BsmtCond'] = house['BsmtCond'].replace(np.nan, 'No Basement')\n",
    "house['BsmtQual'] = house['BsmtQual'].replace(np.nan, 'No Basement')"
   ]
  },
  {
   "cell_type": "code",
   "execution_count": null,
   "id": "57b42ff8",
   "metadata": {},
   "outputs": [],
   "source": [
    "# All the missing values have been fixed\n",
    "\n",
    "missing_values = (house.isnull().sum() / house.isnull().count()*100).sort_values(ascending = False)\n",
    "missing_values.head(10)"
   ]
  },
  {
   "cell_type": "code",
   "execution_count": null,
   "id": "d581d173",
   "metadata": {},
   "outputs": [],
   "source": [
    "#Columns to be be categorised into numerical and categorical after checking for unique values\n",
    "\n",
    "house.nunique()"
   ]
  },
  {
   "cell_type": "code",
   "execution_count": null,
   "id": "44b517a9",
   "metadata": {},
   "outputs": [],
   "source": [
    "# Check for SalePrice which seems to be skewed\n",
    "\n",
    "house['SalePrice'].describe()\n",
    "sns.distplot(house['SalePrice'])"
   ]
  },
  {
   "cell_type": "code",
   "execution_count": null,
   "id": "b55fa2f2",
   "metadata": {},
   "outputs": [],
   "source": [
    "# Value of skewness\n",
    "\n",
    "print(\"Skewness: %f\" % house['SalePrice'].skew())"
   ]
  },
  {
   "cell_type": "code",
   "execution_count": null,
   "id": "dbe54fa1",
   "metadata": {},
   "outputs": [],
   "source": [
    "#transforming to have Normal disribution\n",
    "\n",
    "house['SalePrice']=np.log(house.SalePrice) \n",
    "house['SalePrice'].describe()"
   ]
  },
  {
   "cell_type": "code",
   "execution_count": null,
   "id": "6e34e09f",
   "metadata": {},
   "outputs": [],
   "source": [
    "# Completed Normally distributed\n",
    "\n",
    "sns.distplot(house['SalePrice']) \n",
    "\n",
    "# Value of skewness \n",
    "\n",
    "print(\"Skewness: %f\" % house['SalePrice'].skew())"
   ]
  },
  {
   "cell_type": "markdown",
   "id": "0ab42375",
   "metadata": {},
   "source": [
    "# Exploratory Data Analysis"
   ]
  },
  {
   "cell_type": "code",
   "execution_count": null,
   "id": "2e3fdf41",
   "metadata": {},
   "outputs": [],
   "source": [
    "## Sale Price variation due to categorical variables\n",
    "\n",
    "cat_cols = house.select_dtypes(include=['object'])\n",
    "cat_cols.columns"
   ]
  },
  {
   "cell_type": "code",
   "execution_count": null,
   "id": "54dd5683",
   "metadata": {},
   "outputs": [],
   "source": [
    "#Visualising the countplot and the effect of that categorical variables on dependent variable i.e. SalePrice\n",
    "\n",
    "plt.figure(figsize=(20, 12))\n",
    "plt.subplot(2,3,1)\n",
    "\n",
    "sns.countplot(x = 'KitchenQual',  data = house)\n",
    "plt.subplot(2,3,2)\n",
    "\n",
    "sns.countplot(x = 'Functional', data = house)\n",
    "plt.subplot(2,3,3)\n",
    "\n",
    "sns.countplot(x = 'OverallQual', data = house)\n",
    "plt.xticks(rotation=90)\n",
    "plt.subplot(2,3,4)\n",
    "\n",
    "sns.countplot(x = 'OverallCond', data = house)\n",
    "plt.xticks(rotation=90)\n",
    "plt.subplot(2,3,5)\n",
    "\n",
    "sns.countplot(x = 'MSSubClass',  data = house)\n",
    "plt.xticks(rotation=90)\n",
    "\n",
    "plt.show()"
   ]
  },
  {
   "cell_type": "code",
   "execution_count": null,
   "id": "6809e154",
   "metadata": {},
   "outputs": [],
   "source": [
    "#Checking other columns for skewness\n",
    "\n",
    "house['MSSubClass'].value_counts() "
   ]
  },
  {
   "cell_type": "code",
   "execution_count": null,
   "id": "92cb54db",
   "metadata": {},
   "outputs": [],
   "source": [
    "# Dropping columns which are highly skewed \n",
    "\n",
    "house.drop(['Functional'],axis=1,inplace=True)"
   ]
  },
  {
   "cell_type": "code",
   "execution_count": null,
   "id": "180260ae",
   "metadata": {},
   "outputs": [],
   "source": [
    "plt.figure(figsize=(20, 12))\n",
    "plt.subplot(2,2,1)\n",
    "\n",
    "sns.boxplot(x ='KitchenQual', y ='SalePrice', data = house)\n",
    "plt.subplot(2,2,2)\n",
    "\n",
    "sns.boxplot(x = 'OverallQual', y = 'SalePrice', data = house)\n",
    "plt.xticks(rotation=90)\n",
    "plt.subplot(2,2,3)\n",
    "\n",
    "sns.boxplot(x = 'OverallCond', y = 'SalePrice', data = house)\n",
    "plt.xticks(rotation=90)\n",
    "plt.subplot(2,2,4)\n",
    "\n",
    "sns.boxplot(x = 'MSSubClass', y = 'SalePrice', data = house)\n",
    "plt.xticks(rotation=90)\n",
    "\n",
    "plt.show()"
   ]
  },
  {
   "cell_type": "code",
   "execution_count": null,
   "id": "d52dc1e3",
   "metadata": {},
   "outputs": [],
   "source": [
    "plt.figure(figsize=(20, 12))\n",
    "plt.subplot(2,3,1)\n",
    "\n",
    "sns.countplot(x = 'GarageType',  data = house)\n",
    "plt.subplot(2,3,2)\n",
    "\n",
    "sns.countplot(x = 'GarageFinish', data = house)\n",
    "plt.subplot(2,3,3)\n",
    "\n",
    "sns.countplot(x = 'GarageQual', data = house)\n",
    "plt.subplot(2,3,4)\n",
    "\n",
    "sns.countplot(x = 'GarageCond', data = house)\n",
    "plt.subplot(2,3,5)\n",
    "\n",
    "sns.countplot(x = 'SaleType',  data = house)\n",
    "plt.subplot(2,3,6)\n",
    "\n",
    "sns.countplot(x = 'SaleCondition', data = house)\n",
    "\n",
    "plt.show()"
   ]
  },
  {
   "cell_type": "code",
   "execution_count": null,
   "id": "2bb53530",
   "metadata": {},
   "outputs": [],
   "source": [
    "#Checking other columns for skewness\n",
    "\n",
    "house['SaleCondition'].value_counts() "
   ]
  },
  {
   "cell_type": "code",
   "execution_count": null,
   "id": "feee0e7a",
   "metadata": {},
   "outputs": [],
   "source": [
    "house['GarageType'] = house['GarageType'].replace(['Basment','CarPort','2Types'],'Others')\n",
    "house['SaleCondition'] = house['SaleCondition'].replace(['Family','Alloca','AdjLand'],'Others')\n",
    "\n",
    "# Dropping highly skewed column \n",
    "house.drop(['GarageQual','GarageCond','SaleType'],axis=1,inplace=True)"
   ]
  },
  {
   "cell_type": "code",
   "execution_count": null,
   "id": "6b9cc979",
   "metadata": {},
   "outputs": [],
   "source": [
    "# Variation of SalePrice on Garage type and GarageFinish \n",
    "\n",
    "plt.figure(figsize=(20, 12))\n",
    "plt.subplot(1,2,1)\n",
    "\n",
    "sns.boxplot(x = 'GarageType', y ='SalePrice', data = house)\n",
    "plt.subplot(1,2,2)\n",
    "\n",
    "sns.boxplot(x = 'GarageFinish', y = 'SalePrice', data = house)\n",
    "\n",
    "## Price of Builtin Garagetype and Finished garage is the highest from below plots"
   ]
  },
  {
   "cell_type": "code",
   "execution_count": null,
   "id": "1793894f",
   "metadata": {},
   "outputs": [],
   "source": [
    "plt.figure(figsize=(20, 12))\n",
    "plt.subplot(2,3,1)\n",
    "\n",
    "sns.countplot(x = 'ExterQual',  data = house)\n",
    "plt.subplot(2,3,2)\n",
    "\n",
    "sns.countplot(x = 'ExterCond', data = house)\n",
    "plt.subplot(2,3,3)\n",
    "\n",
    "sns.countplot(x = 'Foundation', data = house)\n",
    "plt.subplot(2,3,4)\n",
    "\n",
    "sns.countplot(x = 'Heating', data = house)\n",
    "plt.subplot(2,3,5)\n",
    "\n",
    "sns.countplot(x = 'HeatingQC',  data = house)\n",
    "plt.subplot(2,3,6)\n",
    "\n",
    "sns.countplot(x = 'CentralAir', data = house)\n",
    "\n",
    "plt.show()"
   ]
  },
  {
   "cell_type": "code",
   "execution_count": null,
   "id": "39560344",
   "metadata": {},
   "outputs": [],
   "source": [
    "#Checking for all variables to check the skewness\n",
    "\n",
    "house['HeatingQC'].value_counts() \n",
    "\n",
    "house['Foundation'] = house['Foundation'].replace(['Slab','Stone','Wood'],'Others')\n",
    "\n",
    "#Dropping columns which are highly skewed \n",
    "house.drop(['CentralAir','Heating','ExterCond'],axis=1,inplace=True)"
   ]
  },
  {
   "cell_type": "code",
   "execution_count": null,
   "id": "0a72d581",
   "metadata": {},
   "outputs": [],
   "source": [
    "#Impact of Garage type and GarageFinish on SalePrice\n",
    "\n",
    "plt.figure(figsize=(20, 12))\n",
    "plt.subplot(1,3,1)\n",
    "\n",
    "sns.boxplot(x = 'ExterQual', y ='SalePrice', data = house)\n",
    "plt.subplot(1,3,2)\n",
    "\n",
    "sns.boxplot(x = 'Foundation', y = 'SalePrice', data = house)\n",
    "plt.subplot(1,3,3)\n",
    "\n",
    "sns.boxplot(x = 'HeatingQC', y = 'SalePrice', data = house)"
   ]
  },
  {
   "cell_type": "code",
   "execution_count": null,
   "id": "cdcaf971",
   "metadata": {},
   "outputs": [],
   "source": [
    "# 1. Price of Excellent ExterQual and HeatingQc is highest\n",
    "# 2. Price of Poured Contrete Foundation is highest."
   ]
  },
  {
   "cell_type": "code",
   "execution_count": null,
   "id": "0f3f2e50",
   "metadata": {},
   "outputs": [],
   "source": [
    "plt.figure(figsize=(20, 12))\n",
    "plt.subplot(2,3,1)\n",
    "\n",
    "sns.countplot(x = 'HouseStyle',  data = house)\n",
    "plt.subplot(2,3,2)\n",
    "\n",
    "sns.countplot(x = 'RoofStyle', data = house)\n",
    "plt.subplot(2,3,3)\n",
    "\n",
    "sns.countplot(x = 'RoofMatl', data = house)\n",
    "plt.xticks(rotation=90)\n",
    "plt.subplot(2,3,4)\n",
    "\n",
    "sns.countplot(x = 'Exterior1st', data = house)\n",
    "plt.xticks(rotation=90)\n",
    "plt.subplot(2,3,5)\n",
    "\n",
    "sns.countplot(x = 'Exterior2nd',  data = house)\n",
    "plt.xticks(rotation=90)\n",
    "plt.subplot(2,3,6)\n",
    "\n",
    "plt.show()"
   ]
  },
  {
   "cell_type": "code",
   "execution_count": null,
   "id": "441bf296",
   "metadata": {},
   "outputs": [],
   "source": [
    "#Checking the skewness for other columns\n",
    "house['Exterior2nd'].value_counts() \n",
    "\n",
    "house['HouseStyle'] = house['HouseStyle'].replace(['SFoyer','1.5Unf','2.5Unf','2.5Fin'],'Others')\n",
    "house['RoofStyle'] = house['RoofStyle'].replace(['Shed','Mansard','Gambrel','Flat'],'Others')\n",
    "house['Exterior1st'] = house['Exterior1st'].replace(['AsphShn','ImStucc','CBlock','Stone','BrkComm','AsbShng','Stucco','WdShing'],'Others')\n",
    "house['Exterior2nd'] = house['Exterior2nd'].replace(['Other','AsphShn','ImStucc','CBlock','Stone','BrkComm','AsbShng','Stucco','BrkFace'],'Others')\n",
    "\n",
    "#Dropping columns which are highly skewed\n",
    "house.drop(['RoofMatl'],axis=1,inplace=True)"
   ]
  },
  {
   "cell_type": "code",
   "execution_count": null,
   "id": "eda755e1",
   "metadata": {},
   "outputs": [],
   "source": [
    "plt.figure(figsize=(20, 12))\n",
    "plt.subplot(2,3,1)\n",
    "\n",
    "sns.boxplot(x = 'HouseStyle', y ='SalePrice', data = house)\n",
    "plt.subplot(2,3,2)\n",
    "\n",
    "sns.boxplot(x = 'RoofStyle', y = 'SalePrice', data = house)\n",
    "plt.subplot(2,3,3)\n",
    "\n",
    "sns.boxplot(x = 'Exterior1st', y = 'SalePrice', data = house)\n",
    "plt.xticks(rotation=90)\n",
    "plt.subplot(2,3,5)\n",
    "\n",
    "sns.boxplot(x = 'Exterior2nd', y = 'SalePrice', data = house)\n",
    "plt.xticks(rotation=90)\n",
    "\n",
    "plt.show()"
   ]
  },
  {
   "cell_type": "code",
   "execution_count": null,
   "id": "3c587192",
   "metadata": {},
   "outputs": [],
   "source": [
    "plt.figure(figsize=(20, 12))\n",
    "plt.subplot(2,3,1)\n",
    "\n",
    "sns.countplot(x = 'Utilities',  data = house)\n",
    "plt.subplot(2,3,2)\n",
    "\n",
    "sns.countplot(x = 'Street', data = house)\n",
    "plt.subplot(2,3,3)\n",
    "\n",
    "sns.countplot(x = 'Neighborhood', data = house)\n",
    "plt.xticks(rotation=90)\n",
    "plt.subplot(2,3,4)\n",
    "\n",
    "sns.countplot(x = 'Condition1', data = house)\n",
    "plt.subplot(2,3,5)\n",
    "\n",
    "sns.countplot(x = 'Condition2',  data = house)\n",
    "plt.subplot(2,3,6)\n",
    "\n",
    "sns.countplot(x = 'BldgType', data = house)\n",
    "\n",
    "plt.show()"
   ]
  },
  {
   "cell_type": "code",
   "execution_count": null,
   "id": "8ea53876",
   "metadata": {},
   "outputs": [],
   "source": [
    "#Checking skewness for other columns\n",
    "house['BldgType'].value_counts()\n",
    "\n",
    "# Dropping columns which are highly skewed \n",
    "house.drop(['Utilities','Street','Condition1','Condition2'],axis=1,inplace=True)"
   ]
  },
  {
   "cell_type": "code",
   "execution_count": null,
   "id": "ab8c26eb",
   "metadata": {},
   "outputs": [],
   "source": [
    "plt.figure(figsize=(20, 12))\n",
    "plt.subplot(2,1,1)\n",
    "\n",
    "sns.boxplot(x = 'Neighborhood', y ='SalePrice', data = house)\n",
    "plt.xticks(rotation=90)\n",
    "plt.subplot(2,1,2)\n",
    "\n",
    "sns.boxplot(x = 'BldgType', y = 'SalePrice', data = house)"
   ]
  },
  {
   "cell_type": "code",
   "execution_count": null,
   "id": "5d99fd4d",
   "metadata": {},
   "outputs": [],
   "source": [
    "plt.figure(figsize=(20, 12))\n",
    "plt.subplot(2,3,1)\n",
    "\n",
    "sns.countplot(x = 'LandContour',  data = house)\n",
    "plt.subplot(2,3,2)\n",
    "\n",
    "sns.countplot(x = 'LandSlope', data = house)\n",
    "plt.subplot(2,3,3)\n",
    "\n",
    "sns.countplot(x = 'LotShape', data = house)\n",
    "plt.subplot(2,3,4)\n",
    "\n",
    "sns.countplot(x = 'Electrical', data = house)\n",
    "plt.subplot(2,3,5)\n",
    "\n",
    "sns.countplot(x = 'MSZoning',  data = house)\n",
    "plt.subplot(2,3,6)\n",
    "\n",
    "sns.countplot(x = 'LotConfig', data = house)\n",
    "\n",
    "plt.show()"
   ]
  },
  {
   "cell_type": "code",
   "execution_count": null,
   "id": "ecd210c7",
   "metadata": {},
   "outputs": [],
   "source": [
    "house['LotConfig'].value_counts()\n",
    "\n",
    "house.drop(['LandSlope','LandContour','Electrical'],axis=1,inplace=True)\n",
    "\n",
    "house['MSZoning'] = house['MSZoning'].replace(['RH','C (all)'],'Others')"
   ]
  },
  {
   "cell_type": "code",
   "execution_count": null,
   "id": "9aa6496a",
   "metadata": {},
   "outputs": [],
   "source": [
    "plt.figure(figsize=(20, 12))\n",
    "plt.subplot(2,3,1)\n",
    "\n",
    "sns.countplot(x = 'BsmtQual',  data = house)\n",
    "plt.subplot(2,3,2)\n",
    "\n",
    "sns.countplot(x = 'BsmtCond', data = house)\n",
    "plt.subplot(2,3,3)\n",
    "\n",
    "sns.countplot(x = 'BsmtExposure', data = house)\n",
    "plt.subplot(2,3,4)\n",
    "\n",
    "sns.countplot(x = 'BsmtFinType1', data = house)\n",
    "plt.subplot(2,3,5)\n",
    "\n",
    "sns.countplot(x = 'BsmtFinType2',  data = house)\n",
    "plt.subplot(2,3,6)\n",
    "\n",
    "sns.countplot(x = 'PavedDrive', data = house)\n",
    "\n",
    "plt.show()"
   ]
  },
  {
   "cell_type": "code",
   "execution_count": null,
   "id": "385c8530",
   "metadata": {},
   "outputs": [],
   "source": [
    "#Checking skewness for other columns\n",
    "house['BsmtCond'].value_counts() \n",
    "\n",
    "#Dropping columns which are highly skewed\n",
    "house.drop(['BsmtFinType2','PavedDrive','BsmtCond'],axis=1,inplace=True)\n",
    "house.head()"
   ]
  },
  {
   "cell_type": "code",
   "execution_count": null,
   "id": "fe728c39",
   "metadata": {},
   "outputs": [],
   "source": [
    "house.info()"
   ]
  },
  {
   "cell_type": "code",
   "execution_count": null,
   "id": "af111cb4",
   "metadata": {},
   "outputs": [],
   "source": [
    "#feature update to have better understanding\n",
    "\n",
    "house['YearSinceRemodel'] = 2010 - ((house['YearRemodAdd'] - house['YearBuilt']) + house['YearBuilt']) "
   ]
  },
  {
   "cell_type": "markdown",
   "id": "6b735008",
   "metadata": {},
   "source": [
    "### Dummy Variable creation"
   ]
  },
  {
   "cell_type": "code",
   "execution_count": null,
   "id": "71faddce",
   "metadata": {},
   "outputs": [],
   "source": [
    "#checking all categorical columns to form dummy variables\n",
    "\n",
    "cat_cols1 = house.select_dtypes(include=['object']) \n",
    "cat_cols1.columns"
   ]
  },
  {
   "cell_type": "code",
   "execution_count": null,
   "id": "2e06e337",
   "metadata": {},
   "outputs": [],
   "source": [
    "# Checking for numerical columns\n",
    "\n",
    "num_cols = house.select_dtypes(include=['int64','float64'])\n",
    "num_cols.columns"
   ]
  },
  {
   "cell_type": "code",
   "execution_count": null,
   "id": "d34bd832",
   "metadata": {},
   "outputs": [],
   "source": [
    "categorical = pd.get_dummies(cat_cols1,drop_first=True)  # Dummy variables\n",
    "\n",
    "print(categorical.shape)"
   ]
  },
  {
   "cell_type": "code",
   "execution_count": null,
   "id": "ef270b2d",
   "metadata": {},
   "outputs": [],
   "source": [
    "categorical.head()"
   ]
  },
  {
   "cell_type": "code",
   "execution_count": null,
   "id": "4955ee0d",
   "metadata": {},
   "outputs": [],
   "source": [
    "# concat dummy variables with main dataset\n",
    "\n",
    "house = pd.concat([house, categorical], axis=1) \n",
    "house.head()"
   ]
  },
  {
   "cell_type": "code",
   "execution_count": null,
   "id": "5455915e",
   "metadata": {},
   "outputs": [],
   "source": [
    "#removing columns as dummy variables already formed\n",
    "\n",
    "house.drop(['MSZoning', 'LotShape', 'LotConfig', 'Neighborhood', 'BldgType',\n",
    "       'HouseStyle', 'RoofStyle', 'Exterior1st', 'Exterior2nd',\n",
    "       'ExterQual', 'Foundation', 'BsmtQual', 'BsmtExposure', 'BsmtFinType1',\n",
    "       'HeatingQC', 'KitchenQual', 'GarageType', 'GarageFinish',\n",
    "       'SaleCondition','Id','OverallCond','MSSubClass','OverallQual'],axis=1,inplace=True)\n",
    "\n",
    "house.head()"
   ]
  },
  {
   "cell_type": "code",
   "execution_count": null,
   "id": "a773f0e9",
   "metadata": {},
   "outputs": [],
   "source": [
    "#no need of these while making a model \n",
    "\n",
    "house.drop(['YearBuilt','YearRemodAdd','GarageYrBlt','YrSold'],axis=1,inplace=True) \n",
    "house.head()"
   ]
  },
  {
   "cell_type": "markdown",
   "id": "24e2fe31",
   "metadata": {},
   "source": [
    "# Model Building and Evaluation"
   ]
  },
  {
   "cell_type": "code",
   "execution_count": null,
   "id": "2b24ea2a",
   "metadata": {},
   "outputs": [],
   "source": [
    "# Putting feature variable to X\n",
    "\n",
    "X = house.drop(['SalePrice'], axis=1)\n",
    "\n",
    "X.head()"
   ]
  },
  {
   "cell_type": "code",
   "execution_count": null,
   "id": "149469e1",
   "metadata": {},
   "outputs": [],
   "source": [
    "# Putting response variable to y\n",
    "\n",
    "y = house['SalePrice']\n",
    "\n",
    "y.head()"
   ]
  },
  {
   "cell_type": "code",
   "execution_count": null,
   "id": "53cb12e0",
   "metadata": {},
   "outputs": [],
   "source": [
    "# Test Train creation\n",
    "\n",
    "X_train, X_test, y_train, y_test = train_test_split(X, y,train_size=0.7, test_size = 0.3, random_state=100)"
   ]
  },
  {
   "cell_type": "code",
   "execution_count": null,
   "id": "b11006e5",
   "metadata": {},
   "outputs": [],
   "source": [
    "#Using StandardScaler for train data\n",
    "\n",
    "scaler = StandardScaler()\n",
    "\n",
    "X_train[['LotFrontage', 'LotArea','MasVnrArea', 'BsmtFinSF1', 'BsmtFinSF2', 'BsmtUnfSF', 'TotalBsmtSF',\n",
    "       '1stFlrSF', '2ndFlrSF', 'LowQualFinSF', 'GrLivArea', 'BsmtFullBath',\n",
    "       'BsmtHalfBath', 'FullBath', 'HalfBath', 'BedroomAbvGr', 'KitchenAbvGr',\n",
    "       'TotRmsAbvGrd', 'Fireplaces','GarageCars', 'GarageArea',\n",
    "       'WoodDeckSF', 'OpenPorchSF', 'EnclosedPorch', '3SsnPorch',\n",
    "       'ScreenPorch', 'PoolArea', 'MiscVal']] = scaler.fit_transform(X_train[['LotFrontage', 'LotArea','MasVnrArea', 'BsmtFinSF1', 'BsmtFinSF2', 'BsmtUnfSF', 'TotalBsmtSF',\n",
    "       '1stFlrSF', '2ndFlrSF', 'LowQualFinSF', 'GrLivArea', 'BsmtFullBath',\n",
    "       'BsmtHalfBath', 'FullBath', 'HalfBath', 'BedroomAbvGr', 'KitchenAbvGr',\n",
    "       'TotRmsAbvGrd', 'Fireplaces','GarageCars', 'GarageArea',\n",
    "       'WoodDeckSF', 'OpenPorchSF', 'EnclosedPorch', '3SsnPorch',\n",
    "       'ScreenPorch', 'PoolArea', 'MiscVal']])\n",
    "\n",
    "X_train.head()"
   ]
  },
  {
   "cell_type": "code",
   "execution_count": null,
   "id": "dd2b92d2",
   "metadata": {},
   "outputs": [],
   "source": [
    "#Using StandardScaler for test data\n",
    "\n",
    "X_test[['LotFrontage', 'LotArea','MasVnrArea', 'BsmtFinSF1', 'BsmtFinSF2', 'BsmtUnfSF', 'TotalBsmtSF',\n",
    "       '1stFlrSF', '2ndFlrSF', 'LowQualFinSF', 'GrLivArea', 'BsmtFullBath',\n",
    "       'BsmtHalfBath', 'FullBath', 'HalfBath', 'BedroomAbvGr', 'KitchenAbvGr',\n",
    "       'TotRmsAbvGrd', 'Fireplaces','GarageCars', 'GarageArea',\n",
    "       'WoodDeckSF', 'OpenPorchSF', 'EnclosedPorch', '3SsnPorch',\n",
    "       'ScreenPorch', 'PoolArea', 'MiscVal']] = scaler.fit_transform(X_test[['LotFrontage', 'LotArea','MasVnrArea', 'BsmtFinSF1', 'BsmtFinSF2', 'BsmtUnfSF', 'TotalBsmtSF',\n",
    "       '1stFlrSF', '2ndFlrSF', 'LowQualFinSF', 'GrLivArea', 'BsmtFullBath',\n",
    "       'BsmtHalfBath', 'FullBath', 'HalfBath', 'BedroomAbvGr', 'KitchenAbvGr',\n",
    "       'TotRmsAbvGrd', 'Fireplaces','GarageCars', 'GarageArea',\n",
    "       'WoodDeckSF', 'OpenPorchSF', 'EnclosedPorch', '3SsnPorch',\n",
    "       'ScreenPorch', 'PoolArea', 'MiscVal']])\n",
    "\n",
    "X_test.head()"
   ]
  },
  {
   "cell_type": "markdown",
   "id": "a63451d4",
   "metadata": {},
   "source": [
    "## Ridge"
   ]
  },
  {
   "cell_type": "code",
   "execution_count": null,
   "id": "41e5a9c1",
   "metadata": {},
   "outputs": [],
   "source": [
    "# list of alphas to tune\n",
    "params = {'alpha': [0.00004,0.0001, 0.001, 0.01, 0.1, 10,100,1000]}\n",
    "\n",
    "ridge = Ridge()\n",
    "\n",
    "# cross validation\n",
    "folds = 5\n",
    "model_cv = GridSearchCV(estimator = ridge, \n",
    "                        param_grid = params, \n",
    "                        scoring= 'r2', \n",
    "                        cv = folds, \n",
    "                        return_train_score=True,\n",
    "                        verbose = 1)\n",
    "\n",
    "model_cv.fit(X_train, y_train) "
   ]
  },
  {
   "cell_type": "code",
   "execution_count": null,
   "id": "9481aa2b",
   "metadata": {},
   "outputs": [],
   "source": [
    "cv_results = pd.DataFrame(model_cv.cv_results_)\n",
    "cv_results = cv_results[cv_results['param_alpha']<=100]\n",
    "\n",
    "cv_results.head()"
   ]
  },
  {
   "cell_type": "code",
   "execution_count": null,
   "id": "f4236253",
   "metadata": {},
   "outputs": [],
   "source": [
    "# plotting mean test and train scoes with alpha \n",
    "cv_results['param_alpha'] = cv_results['param_alpha'].astype('int32')\n",
    "\n",
    "# plotting\n",
    "plt.plot(cv_results['param_alpha'], cv_results['mean_train_score'])\n",
    "plt.plot(cv_results['param_alpha'], cv_results['mean_test_score'])\n",
    "plt.xlabel('alpha')\n",
    "plt.ylabel('r2')\n",
    "plt.title(\"r2 and alpha\")\n",
    "plt.legend(['train score', 'test score'], loc='upper left')\n",
    "\n",
    "plt.show()"
   ]
  },
  {
   "cell_type": "code",
   "execution_count": null,
   "id": "3fa27ce6",
   "metadata": {},
   "outputs": [],
   "source": [
    "#optimum value of alpha\n",
    "\n",
    "alpha = 10\n",
    "ridge = Ridge(alpha=alpha)\n",
    "\n",
    "ridge.fit(X_train, y_train)\n",
    "ridge.coef_"
   ]
  },
  {
   "cell_type": "code",
   "execution_count": null,
   "id": "824016e6",
   "metadata": {},
   "outputs": [],
   "source": [
    "# Ridge score of train data\n",
    "\n",
    "ridge.score(X_train,y_train)"
   ]
  },
  {
   "cell_type": "code",
   "execution_count": null,
   "id": "86eb0dee",
   "metadata": {},
   "outputs": [],
   "source": [
    "# Ridge score of test data\n",
    "\n",
    "ridge.score(X_test,y_test)"
   ]
  },
  {
   "cell_type": "code",
   "execution_count": null,
   "id": "8d8a3e82",
   "metadata": {},
   "outputs": [],
   "source": [
    "# Ridge model parameters\n",
    "model_parameters = list(sorted(ridge.coef_))\n",
    "model_parameters.insert(0, ridge.intercept_)\n",
    "model_parameters = [round(x, 3) for x in model_parameters]\n",
    "cols = X.columns\n",
    "cols = cols.insert(0, \"constant\")\n",
    "list(zip(cols, model_parameters))"
   ]
  },
  {
   "cell_type": "markdown",
   "id": "6b11754e",
   "metadata": {},
   "source": [
    "## Lasso"
   ]
  },
  {
   "cell_type": "code",
   "execution_count": null,
   "id": "68a8869f",
   "metadata": {},
   "outputs": [],
   "source": [
    "params = {'alpha': [0.00006,0.0006, 0.0008, 0.001, 0.002, 0.004, 0.006, 0.008 ]}\n",
    "lasso = Lasso()\n",
    "\n",
    "# cross validation\n",
    "model_cv = GridSearchCV(estimator = lasso, \n",
    "                        param_grid = params, \n",
    "                        scoring= 'r2', \n",
    "                        cv = folds, \n",
    "                        return_train_score=True,\n",
    "                        verbose = 1)            \n",
    "\n",
    "model_cv.fit(X_train, y_train) "
   ]
  },
  {
   "cell_type": "code",
   "execution_count": null,
   "id": "3ca9e7c4",
   "metadata": {},
   "outputs": [],
   "source": [
    "cv_results = pd.DataFrame(model_cv.cv_results_)\n",
    "\n",
    "cv_results.head()"
   ]
  },
  {
   "cell_type": "code",
   "execution_count": null,
   "id": "749232f5",
   "metadata": {},
   "outputs": [],
   "source": [
    "# plotting mean test and train scores with alpha \n",
    "cv_results['param_alpha'] = cv_results['param_alpha'].astype('float32')\n",
    "\n",
    "# plotting\n",
    "plt.plot(cv_results['param_alpha'], cv_results['mean_train_score'])\n",
    "plt.plot(cv_results['param_alpha'], cv_results['mean_test_score'])\n",
    "plt.xlabel('alpha')\n",
    "plt.ylabel('r2')\n",
    "\n",
    "plt.title(\"r2 and alpha\")\n",
    "plt.legend(['train score', 'test score'], loc='upper left')\n",
    "plt.show()"
   ]
  },
  {
   "cell_type": "code",
   "execution_count": null,
   "id": "6143229c",
   "metadata": {},
   "outputs": [],
   "source": [
    "#optimum value of alpha\n",
    "\n",
    "alpha = 0.001\n",
    "\n",
    "lasso = Lasso(alpha=alpha)\n",
    "        \n",
    "lasso.fit(X_train, y_train) "
   ]
  },
  {
   "cell_type": "code",
   "execution_count": null,
   "id": "dadac9b0",
   "metadata": {},
   "outputs": [],
   "source": [
    "lasso.coef_"
   ]
  },
  {
   "cell_type": "code",
   "execution_count": null,
   "id": "b9836449",
   "metadata": {},
   "outputs": [],
   "source": [
    "# Lasso score of train data\n",
    "\n",
    "lasso.score(X_train,y_train)"
   ]
  },
  {
   "cell_type": "code",
   "execution_count": null,
   "id": "3e7aac96",
   "metadata": {},
   "outputs": [],
   "source": [
    "# Lasso score of test data\n",
    "\n",
    "lasso.score(X_test,y_test)"
   ]
  },
  {
   "cell_type": "code",
   "execution_count": null,
   "id": "c77cf473",
   "metadata": {},
   "outputs": [],
   "source": [
    "# lasso model parameters\n",
    "\n",
    "model_parameters = list(sorted(lasso.coef_))\n",
    "model_parameters.insert(0, lasso.intercept_)\n",
    "model_parameters = [round(x, 3) for x in model_parameters]\n",
    "cols = X.columns\n",
    "cols = cols.insert(0, \"constant\")\n",
    "\n",
    "list((zip(cols, model_parameters)))"
   ]
  },
  {
   "cell_type": "code",
   "execution_count": null,
   "id": "eda7210e",
   "metadata": {},
   "outputs": [],
   "source": [
    "# Checking r2\n",
    "\n",
    "reg = LinearRegression()\n",
    "reg.fit(X, y)"
   ]
  },
  {
   "cell_type": "code",
   "execution_count": null,
   "id": "e5d4ccb3",
   "metadata": {},
   "outputs": [],
   "source": [
    "# Prediction on the basis of the model\n",
    "y_pred = reg.predict(X)\n",
    "y_pred"
   ]
  },
  {
   "cell_type": "code",
   "execution_count": null,
   "id": "d3427872",
   "metadata": {},
   "outputs": [],
   "source": [
    "r2_score(y, y_pred)"
   ]
  },
  {
   "cell_type": "code",
   "execution_count": null,
   "id": "8e1a8b28",
   "metadata": {},
   "outputs": [],
   "source": [
    "### Since r2 score is 0.91 which means prediction is good"
   ]
  },
  {
   "cell_type": "markdown",
   "id": "69e30dd0",
   "metadata": {},
   "source": [
    "# Overall Conclusion"
   ]
  },
  {
   "cell_type": "markdown",
   "id": "89de6ba3",
   "metadata": {},
   "source": [
    "1. Ridge - Train : 0.90, Test : 0.87\n",
    "2. Lasso - Train : 0.89, Test : 0.86"
   ]
  },
  {
   "cell_type": "markdown",
   "id": "644a38a7",
   "metadata": {},
   "source": [
    "## Top 10 variables in Ridge are:"
   ]
  },
  {
   "cell_type": "markdown",
   "id": "7d9bdb82",
   "metadata": {},
   "source": [
    "Below 10 variables are significant in predicting the price of a house using Ridge:\n",
    "\n",
    "1. SaleCondition_Partial : 0.144\n",
    "2. SaleCondition_Others : 0.104\n",
    "3. SaleCondition_Normal : 0.095\n",
    "4. GarageFinish_Unf : 0.093\n",
    "5. GarageFinish_RFn : 0.088\n",
    "6. GarageFinish_No Garage : 0.075\n",
    "7. GarageType_Others : 0.058\n",
    "8. GarageType_No Garage : 0.057\n",
    "9. GarageType_Detchd : 0.056\n",
    "10. GarageType_BuiltIn : 0.054"
   ]
  },
  {
   "cell_type": "markdown",
   "id": "3ebaac22",
   "metadata": {},
   "source": [
    "## Top 10 variables in Lasso are:"
   ]
  },
  {
   "cell_type": "markdown",
   "id": "c2804d64",
   "metadata": {},
   "source": [
    "Below 10 variables are significant in predicting the price of a house using Lasso:\n",
    "\n",
    "1. SaleCondition_Partial : 0.201\n",
    "2. SaleCondition_Others : 0.122\n",
    "3. SaleCondition_Normal : 0.103\n",
    "4. GarageFinish_Unf : 0.099\n",
    "5. GarageFinish_RFn : 0.085\n",
    "6. GarageFinish_No Garage : 0.081\n",
    "7. GarageType_Others : 0.059\n",
    "8. GarageType_No Garage : 0.056\n",
    "9. GarageType_Detchd : 0.052\n",
    "10. GarageType_BuiltIn : 0.047"
   ]
  },
  {
   "cell_type": "markdown",
   "id": "85cbc963",
   "metadata": {},
   "source": [
    "## Optimal Value of lambda"
   ]
  },
  {
   "cell_type": "markdown",
   "id": "73d7f80b",
   "metadata": {},
   "source": [
    "Optimal Value of lambda for Ridge : 10\n",
    "\n",
    "Optimal Value of lambda for Lasso : 0.001"
   ]
  },
  {
   "cell_type": "code",
   "execution_count": null,
   "id": "bb04b05c",
   "metadata": {},
   "outputs": [],
   "source": []
  }
 ],
 "metadata": {
  "kernelspec": {
   "display_name": "Python 3 (ipykernel)",
   "language": "python",
   "name": "python3"
  },
  "language_info": {
   "codemirror_mode": {
    "name": "ipython",
    "version": 3
   },
   "file_extension": ".py",
   "mimetype": "text/x-python",
   "name": "python",
   "nbconvert_exporter": "python",
   "pygments_lexer": "ipython3",
   "version": "3.11.5"
  }
 },
 "nbformat": 4,
 "nbformat_minor": 5
}
